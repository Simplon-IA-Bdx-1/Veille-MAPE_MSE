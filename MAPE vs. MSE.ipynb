{
 "cells": [
  {
   "cell_type": "markdown",
   "metadata": {
    "slideshow": {
     "slide_type": "slide"
    }
   },
   "source": [
    "# Est-il possible d’utiliser MAPE au lieu de MSE comme fonction de loss?"
   ]
  },
  {
   "cell_type": "markdown",
   "metadata": {
    "slideshow": {
     "slide_type": "slide"
    }
   },
   "source": [
    "## Rappel "
   ]
  },
  {
   "cell_type": "markdown",
   "metadata": {},
   "source": [
    "La fonction de coût, \"**loss function**\", est la fonction qui **mesure l'erreur** entre les prédictions faites par notre modèle et la vraie valeur de l'output.  \n",
    "C'est cette fonction que l'on veut **minimiser** (par la méthode de la descente de gradient) pendant la phase d'entraînement du modèle.  \n",
    "Il en existe une grande variété, que ce soit pour des problèmes de classification ou de régression.  \n",
    "Deux exemples de ces fonctions, spécialisées pour des problèmes de régression, sont les fonction **Mean Absolute Percentage Error** (MAPE) et **Mean Squared Error** (MSE)."
   ]
  },
  {
   "cell_type": "markdown",
   "metadata": {
    "slideshow": {
     "slide_type": "slide"
    }
   },
   "source": [
    "## Formules"
   ]
  },
  {
   "cell_type": "markdown",
   "metadata": {},
   "source": [
    "$MAPE = \\frac{1}{n}\\Sigma_{i=1}^{n}\\frac{|y_i - \\hat{y_i}|}{y_i}$  \n",
    "  \n",
    "$MSE = \\frac{1}{n}\\Sigma_{i=1}^{n}(\\hat{y_i} - y_i)^2$  \n",
    "  \n",
    "$\\hat{y_i}$ : valeur prédite par le modèle  \n",
    "$y_i$ : valeur réelle\n"
   ]
  },
  {
   "cell_type": "code",
   "execution_count": 1,
   "metadata": {
    "slideshow": {
     "slide_type": "slide"
    }
   },
   "outputs": [],
   "source": [
    "import numpy as np\n",
    "from sklearn.metrics import mean_squared_error\n",
    "\n",
    "def mean_absolute_percentage_error(y_true, y_pred): \n",
    "    y_true, y_pred = np.array(y_true), np.array(y_pred)\n",
    "    return 100*np.mean(np.abs((y_true - y_pred) / y_true))"
   ]
  },
  {
   "cell_type": "markdown",
   "metadata": {
    "cell_style": "center",
    "slideshow": {
     "slide_type": "slide"
    }
   },
   "source": [
    "## Exemple 1 "
   ]
  },
  {
   "cell_type": "code",
   "execution_count": 2,
   "metadata": {
    "cell_style": "center"
   },
   "outputs": [],
   "source": [
    "y_pred = [5]\n",
    "y_true = [15]"
   ]
  },
  {
   "cell_type": "code",
   "execution_count": 3,
   "metadata": {
    "cell_style": "center",
    "scrolled": true
   },
   "outputs": [
    {
     "name": "stdout",
     "output_type": "stream",
     "text": [
      "MAPE: Le modèle s'est trompé de 66.66666666666666%\n",
      "MSE : Le modèle s'est trompé de 100.0\n"
     ]
    }
   ],
   "source": [
    "mape = mean_absolute_percentage_error(y_true, y_pred)\n",
    "mse = mean_squared_error(y_true, y_pred)\n",
    "print(f\"MAPE: Le modèle s'est trompé de {mape}%\")\n",
    "print(f\"MSE : Le modèle s'est trompé de {mse}\")"
   ]
  },
  {
   "cell_type": "markdown",
   "metadata": {
    "cell_style": "split",
    "slideshow": {
     "slide_type": "slide"
    }
   },
   "source": [
    "## Exemple 2"
   ]
  },
  {
   "cell_type": "code",
   "execution_count": 4,
   "metadata": {
    "cell_style": "split",
    "slideshow": {
     "slide_type": "-"
    }
   },
   "outputs": [],
   "source": [
    "y_pred = [1010]\n",
    "y_true = [1000]"
   ]
  },
  {
   "cell_type": "code",
   "execution_count": 5,
   "metadata": {
    "cell_style": "center"
   },
   "outputs": [
    {
     "name": "stdout",
     "output_type": "stream",
     "text": [
      "MAPE: Le modèle s'est trompé de 1.0%\n",
      "MSE: Le modèle s'est trompé de 100.0\n"
     ]
    }
   ],
   "source": [
    "mape = mean_absolute_percentage_error(y_true, y_pred)\n",
    "mse = mean_squared_error(y_true, y_pred)\n",
    "print(f\"MAPE: Le modèle s'est trompé de {mape}%\")\n",
    "print(f\"MSE: Le modèle s'est trompé de {mse}\")"
   ]
  },
  {
   "cell_type": "markdown",
   "metadata": {},
   "source": [
    "Dans les deux cas la MSE renvoie une erreur de 100, alors que dans le premier cas le modèle s'est complètement trompé et dans le deuxième, il a prédit une valeur très proche de la réalité. La MAPE est plus utile que la MSE dans ce cas pour montrer l'efficacité du modèle."
   ]
  },
  {
   "cell_type": "markdown",
   "metadata": {
    "slideshow": {
     "slide_type": "slide"
    }
   },
   "source": [
    "## Exemple 3 "
   ]
  },
  {
   "cell_type": "code",
   "execution_count": 6,
   "metadata": {},
   "outputs": [],
   "source": [
    "y_pred = [10]\n",
    "y_true = [0]"
   ]
  },
  {
   "cell_type": "code",
   "execution_count": 7,
   "metadata": {},
   "outputs": [
    {
     "name": "stdout",
     "output_type": "stream",
     "text": [
      "Le modèle s'est trompé de inf%\n",
      "Le modèle s'est trompé de 100.0\n"
     ]
    },
    {
     "name": "stderr",
     "output_type": "stream",
     "text": [
      "C:\\Users\\Utilisateur\\Anaconda3\\lib\\site-packages\\ipykernel_launcher.py:6: RuntimeWarning: divide by zero encountered in true_divide\n",
      "  \n"
     ]
    }
   ],
   "source": [
    "mape = mean_absolute_percentage_error(y_true, y_pred)\n",
    "mse = mean_squared_error(y_true, y_pred)\n",
    "print(f\"Le modèle s'est trompé de {mape}%\")\n",
    "print(f\"Le modèle s'est trompé de {mse}\")"
   ]
  },
  {
   "cell_type": "markdown",
   "metadata": {
    "slideshow": {
     "slide_type": "slide"
    }
   },
   "source": [
    "## Observations"
   ]
  },
  {
   "cell_type": "markdown",
   "metadata": {},
   "source": [
    "Dans les exemples 1 et 2, on voit que la fonction MAPE peut être utilisée à la place de MSE et rend mieux compte de l'importance de l'erreur.  \n",
    "  \n",
    "L'exemple 3 nous montre que la MAPE n'est pas utilisable pour tous les problèmes de régression, notamment si l'output peut prendre 0 comme valeur.  \n",
    "  \n",
    "On peut en conclure qu'il est possible d'utiliser la MAPE comme fonction de loss, en faisant attention à quel problème on l'applique."
   ]
  },
  {
   "cell_type": "markdown",
   "metadata": {
    "slideshow": {
     "slide_type": "slide"
    }
   },
   "source": [
    "## Sources"
   ]
  },
  {
   "cell_type": "markdown",
   "metadata": {},
   "source": [
    "[https://www.deeplearning-academy.com/p/ai-wiki-loss-functions-in-deep-learning](https://www.deeplearning-academy.com/p/ai-wiki-loss-functions-in-deep-learning)  \n",
    "[https://stats.stackexchange.com/questions/58391/mean-absolute-percentage-error-mape-in-scikit-learn](https://stats.stackexchange.com/questions/58391/mean-absolute-percentage-error-mape-in-scikit-learn)"
   ]
  }
 ],
 "metadata": {
  "celltoolbar": "Diaporama",
  "kernelspec": {
   "display_name": "Python 3",
   "language": "python",
   "name": "python3"
  },
  "language_info": {
   "codemirror_mode": {
    "name": "ipython",
    "version": 3
   },
   "file_extension": ".py",
   "mimetype": "text/x-python",
   "name": "python",
   "nbconvert_exporter": "python",
   "pygments_lexer": "ipython3",
   "version": "3.7.4"
  },
  "toc": {
   "base_numbering": 1,
   "nav_menu": {},
   "number_sections": false,
   "sideBar": true,
   "skip_h1_title": false,
   "title_cell": "Table of Contents",
   "title_sidebar": "Contents",
   "toc_cell": false,
   "toc_position": {
    "height": "calc(100% - 180px)",
    "left": "10px",
    "top": "150px",
    "width": "165px"
   },
   "toc_section_display": true,
   "toc_window_display": false
  }
 },
 "nbformat": 4,
 "nbformat_minor": 2
}
